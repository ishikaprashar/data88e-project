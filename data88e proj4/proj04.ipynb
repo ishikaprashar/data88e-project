{
 "cells": [
  {
   "cell_type": "code",
   "execution_count": 1,
   "metadata": {
    "deletable": false,
    "editable": false
   },
   "outputs": [],
   "source": [
    "# Initialize Otter\n",
    "import otter\n",
    "grader = otter.Notebook(\"proj04.ipynb\")"
   ]
  },
  {
   "cell_type": "markdown",
   "metadata": {
    "cell_id": "00001-935aceaa-ea9b-46d0-b213-0dffd31516d5",
    "tags": []
   },
   "source": [
    "# Project 4: Econometrics\n",
    "\n",
    "In this project we'll be taking a look at datasets related to college education and exploring questions revolving around the relationships between years of education and various factors."
   ]
  },
  {
   "cell_type": "code",
   "execution_count": 2,
   "metadata": {
    "cell_id": "00000-2e2747fa-b1ed-403a-a4e6-89020612ff05",
    "execution_millis": 34,
    "execution_start": 1604896220007,
    "output_cleared": false,
    "source_hash": "ed573ab7",
    "tags": []
   },
   "outputs": [],
   "source": [
    "import numpy as np\n",
    "from datascience import *\n",
    "import statsmodels.api as sm\n",
    "import matplotlib.pyplot as plt\n",
    "import warnings\n",
    "warnings.simplefilter(action='ignore')\n",
    "plt.style.use('seaborn-muted')\n",
    "%matplotlib inline\n",
    "plt.rcParams[\"figure.figsize\"] = [10,7]"
   ]
  },
  {
   "cell_type": "markdown",
   "metadata": {
    "cell_id": "00003-5a24b42d-3f9a-4665-abb1-3880341711ec",
    "tags": []
   },
   "source": [
    "## Part 1: College Distance\n",
    "\n",
    "We will begin by examining the relationship between years of schooling and a person's distance to the nearest college when in high school. The idea here is to see if there are any effects of proximity to a college and how much education a person receives.\n",
    "\n",
    "The data for this section is from the paper *Democratization or Diversion? The Effect of Community Colleges on Educational Attainment* by Cecilia Rouse (1995).\n",
    "\n",
    "To explore this problem, we will import a dataset called `college_distance.csv`, which contains several relevant features for a random sample of high school seniors interviewed in 1980 and re-interviewed in 1986.\n",
    "The table contains the following columns:\n",
    "\n",
    "- `yrsed`: Years of Education Completed$^1$\n",
    "- `female`: Binary variable (1 = female, 0 otherwise)\n",
    "- `black`: Binary variable (1 = black, 0 otherwise)\n",
    "- `hispanic`: Binary variable (1 = Hispanic, 0 otherwise)\n",
    "- `bytest`: Basic year composite test score. These are achievement tests given to high school seniors.\n",
    "- `dadcoll`: Binary variable (1 = father is a college graduate, 0 otherwise)\n",
    "- `momcoll`: Binary variable (1 = mother is a college graduate, 0 otherwise)\n",
    "- `incomehi`: Binary variable (1 = family income > \\$25,000 per year, 0 otherwise)\n",
    "- `ownhome`: Binary variable (1 = family owns their home, 0 otherwise)\n",
    "- `urban`: Binary variable (1 = high school in urban area, 0 otherwise)\n",
    "- `cue80`: County unemployment rate in 1980 (%)\n",
    "- `stwmfg80`: Average state hourly wage in manufacturing in 1980\n",
    "- `dist`: Distance from 4-year college (in 10s of miles)\n",
    "- `tuition`: Average state 4 year college tuition (in 1000s of dollars)\n",
    "\n",
    "$^1$: Rouse computed years of education by assigning 12 years to all members of the senior class. Each additional year of secondary education counted as a one year. Student’s with vocational degrees were assigned 13 years, AA degrees were assigned 14 years, BA degrees were assigned 16 years, those with some graduate education were assigned 17 years, and those with a graduate degree were assigned 18 years.\n"
   ]
  },
  {
   "cell_type": "code",
   "execution_count": 3,
   "metadata": {
    "cell_id": "00003-fb630703-c4b1-437a-962d-9144bfa3ddb6",
    "execution_millis": 30,
    "execution_start": 1604896532696,
    "output_cleared": false,
    "source_hash": "a5be9ea1",
    "tags": []
   },
   "outputs": [
    {
     "data": {
      "text/html": [
       "<table border=\"1\" class=\"dataframe\">\n",
       "    <thead>\n",
       "        <tr>\n",
       "            <th>female</th> <th>black</th> <th>hispanic</th> <th>bytest</th> <th>dadcoll</th> <th>momcoll</th> <th>ownhome</th> <th>urban</th> <th>cue80</th> <th>stwmfg80</th> <th>dist</th> <th>tuition</th> <th>yrsed</th> <th>incomehi</th>\n",
       "        </tr>\n",
       "    </thead>\n",
       "    <tbody>\n",
       "        <tr>\n",
       "            <td>0     </td> <td>0    </td> <td>0       </td> <td>39.15 </td> <td>1      </td> <td>0      </td> <td>1      </td> <td>1    </td> <td>6.2  </td> <td>8.09    </td> <td>0.2 </td> <td>0.88915</td> <td>12   </td> <td>1       </td>\n",
       "        </tr>\n",
       "        <tr>\n",
       "            <td>1     </td> <td>0    </td> <td>0       </td> <td>48.87 </td> <td>0      </td> <td>0      </td> <td>1      </td> <td>1    </td> <td>6.2  </td> <td>8.09    </td> <td>0.2 </td> <td>0.88915</td> <td>12   </td> <td>0       </td>\n",
       "        </tr>\n",
       "        <tr>\n",
       "            <td>0     </td> <td>0    </td> <td>0       </td> <td>48.74 </td> <td>0      </td> <td>0      </td> <td>1      </td> <td>1    </td> <td>6.2  </td> <td>8.09    </td> <td>0.2 </td> <td>0.88915</td> <td>12   </td> <td>0       </td>\n",
       "        </tr>\n",
       "        <tr>\n",
       "            <td>0     </td> <td>1    </td> <td>0       </td> <td>40.4  </td> <td>0      </td> <td>0      </td> <td>1      </td> <td>1    </td> <td>6.2  </td> <td>8.09    </td> <td>0.2 </td> <td>0.88915</td> <td>12   </td> <td>0       </td>\n",
       "        </tr>\n",
       "        <tr>\n",
       "            <td>1     </td> <td>0    </td> <td>0       </td> <td>40.48 </td> <td>0      </td> <td>0      </td> <td>0      </td> <td>1    </td> <td>5.6  </td> <td>8.09    </td> <td>0.4 </td> <td>0.88915</td> <td>13   </td> <td>0       </td>\n",
       "        </tr>\n",
       "        <tr>\n",
       "            <td>0     </td> <td>0    </td> <td>0       </td> <td>54.71 </td> <td>0      </td> <td>0      </td> <td>1      </td> <td>1    </td> <td>5.6  </td> <td>8.09    </td> <td>0.4 </td> <td>0.88915</td> <td>12   </td> <td>0       </td>\n",
       "        </tr>\n",
       "        <tr>\n",
       "            <td>1     </td> <td>0    </td> <td>0       </td> <td>56.07 </td> <td>0      </td> <td>0      </td> <td>1      </td> <td>0    </td> <td>7.2  </td> <td>8.85    </td> <td>0.4 </td> <td>0.84988</td> <td>13   </td> <td>0       </td>\n",
       "        </tr>\n",
       "        <tr>\n",
       "            <td>1     </td> <td>0    </td> <td>0       </td> <td>54.85 </td> <td>0      </td> <td>0      </td> <td>1      </td> <td>0    </td> <td>7.2  </td> <td>8.85    </td> <td>0.4 </td> <td>0.84988</td> <td>15   </td> <td>0       </td>\n",
       "        </tr>\n",
       "        <tr>\n",
       "            <td>0     </td> <td>0    </td> <td>0       </td> <td>64.74 </td> <td>1      </td> <td>0      </td> <td>1      </td> <td>1    </td> <td>5.9  </td> <td>8.09    </td> <td>3   </td> <td>0.88915</td> <td>13   </td> <td>0       </td>\n",
       "        </tr>\n",
       "        <tr>\n",
       "            <td>1     </td> <td>0    </td> <td>0       </td> <td>56.06 </td> <td>0      </td> <td>0      </td> <td>1      </td> <td>1    </td> <td>5.9  </td> <td>8.09    </td> <td>3   </td> <td>0.88915</td> <td>15   </td> <td>0       </td>\n",
       "        </tr>\n",
       "    </tbody>\n",
       "</table>\n",
       "<p>... (3786 rows omitted)</p>"
      ],
      "text/plain": [
       "female | black | hispanic | bytest | dadcoll | momcoll | ownhome | urban | cue80 | stwmfg80 | dist | tuition | yrsed | incomehi\n",
       "0      | 0     | 0        | 39.15  | 1       | 0       | 1       | 1     | 6.2   | 8.09     | 0.2  | 0.88915 | 12    | 1\n",
       "1      | 0     | 0        | 48.87  | 0       | 0       | 1       | 1     | 6.2   | 8.09     | 0.2  | 0.88915 | 12    | 0\n",
       "0      | 0     | 0        | 48.74  | 0       | 0       | 1       | 1     | 6.2   | 8.09     | 0.2  | 0.88915 | 12    | 0\n",
       "0      | 1     | 0        | 40.4   | 0       | 0       | 1       | 1     | 6.2   | 8.09     | 0.2  | 0.88915 | 12    | 0\n",
       "1      | 0     | 0        | 40.48  | 0       | 0       | 0       | 1     | 5.6   | 8.09     | 0.4  | 0.88915 | 13    | 0\n",
       "0      | 0     | 0        | 54.71  | 0       | 0       | 1       | 1     | 5.6   | 8.09     | 0.4  | 0.88915 | 12    | 0\n",
       "1      | 0     | 0        | 56.07  | 0       | 0       | 1       | 0     | 7.2   | 8.85     | 0.4  | 0.84988 | 13    | 0\n",
       "1      | 0     | 0        | 54.85  | 0       | 0       | 1       | 0     | 7.2   | 8.85     | 0.4  | 0.84988 | 15    | 0\n",
       "0      | 0     | 0        | 64.74  | 1       | 0       | 1       | 1     | 5.9   | 8.09     | 3    | 0.88915 | 13    | 0\n",
       "1      | 0     | 0        | 56.06  | 0       | 0       | 1       | 1     | 5.9   | 8.09     | 3    | 0.88915 | 15    | 0\n",
       "... (3786 rows omitted)"
      ]
     },
     "execution_count": 3,
     "metadata": {},
     "output_type": "execute_result"
    }
   ],
   "source": [
    "distance = Table.read_table('college_distance.csv')\n",
    "distance"
   ]
  },
  {
   "cell_type": "markdown",
   "metadata": {
    "cell_id": "00005-c7b0b06a-ae89-4dd7-91ae-df4b61a77942",
    "deletable": false,
    "editable": false,
    "tags": []
   },
   "source": [
    "<!-- BEGIN QUESTION -->\n",
    "\n",
    "**Question 1.1:** What do you expect the sign of the relationship between years of schooling and distance to nearest college to be? Provide a possible and brief explanation for the sign.\n",
    "\n",
    "<!--\n",
    "BEGIN QUESTION\n",
    "name: q1_1\n",
    "manual: true\n",
    "-->"
   ]
  },
  {
   "cell_type": "markdown",
   "metadata": {},
   "source": [
    "negative because as distance to nearest college increases, years of schooling decreases. "
   ]
  },
  {
   "cell_type": "markdown",
   "metadata": {
    "cell_id": "00007-1c674449-2871-4d4c-86c9-adfc057812a9",
    "deletable": false,
    "editable": false,
    "tags": []
   },
   "source": [
    "<!-- END QUESTION -->\n",
    "\n",
    "**Question 1.2:** Consider the following single-variable regression:\n",
    "\n",
    "$$\\text{Years of Education} = \\beta_1 \\times \\text{Distance from College} + \\alpha$$ \n",
    "\n",
    "Fit the above regression of years of education `yrsed` onto distance to the nearest college `dist`. \n",
    "\n",
    "*Hint*: Make sure to always add a column of 1's.\n",
    "\n",
    "<!--\n",
    "BEGIN QUESTION\n",
    "name: q1_2\n",
    "-->"
   ]
  },
  {
   "cell_type": "code",
   "execution_count": 4,
   "metadata": {
    "cell_id": "00005-440992aa-8391-4ab5-bb3a-70f53a578b61",
    "execution_millis": 23,
    "execution_start": 1604897859001,
    "output_cleared": false,
    "source_hash": "4865f798",
    "tags": []
   },
   "outputs": [
    {
     "data": {
      "text/html": [
       "<table class=\"simpletable\">\n",
       "<caption>OLS Regression Results</caption>\n",
       "<tr>\n",
       "  <th>Dep. Variable:</th>            <td>y</td>        <th>  R-squared:         </th> <td>   0.007</td> \n",
       "</tr>\n",
       "<tr>\n",
       "  <th>Model:</th>                   <td>OLS</td>       <th>  Adj. R-squared:    </th> <td>   0.007</td> \n",
       "</tr>\n",
       "<tr>\n",
       "  <th>Method:</th>             <td>Least Squares</td>  <th>  F-statistic:       </th> <td>   28.48</td> \n",
       "</tr>\n",
       "<tr>\n",
       "  <th>Date:</th>             <td>Thu, 29 Apr 2021</td> <th>  Prob (F-statistic):</th> <td>1.00e-07</td> \n",
       "</tr>\n",
       "<tr>\n",
       "  <th>Time:</th>                 <td>20:03:06</td>     <th>  Log-Likelihood:    </th> <td> -7632.2</td> \n",
       "</tr>\n",
       "<tr>\n",
       "  <th>No. Observations:</th>      <td>  3796</td>      <th>  AIC:               </th> <td>1.527e+04</td>\n",
       "</tr>\n",
       "<tr>\n",
       "  <th>Df Residuals:</th>          <td>  3794</td>      <th>  BIC:               </th> <td>1.528e+04</td>\n",
       "</tr>\n",
       "<tr>\n",
       "  <th>Df Model:</th>              <td>     1</td>      <th>                     </th>     <td> </td>    \n",
       "</tr>\n",
       "<tr>\n",
       "  <th>Covariance Type:</th>      <td>nonrobust</td>    <th>                     </th>     <td> </td>    \n",
       "</tr>\n",
       "</table>\n",
       "<table class=\"simpletable\">\n",
       "<tr>\n",
       "    <td></td>       <th>coef</th>     <th>std err</th>      <th>t</th>      <th>P>|t|</th>  <th>[0.025</th>    <th>0.975]</th>  \n",
       "</tr>\n",
       "<tr>\n",
       "  <th>const</th> <td>   13.9559</td> <td>    0.038</td> <td>  369.945</td> <td> 0.000</td> <td>   13.882</td> <td>   14.030</td>\n",
       "</tr>\n",
       "<tr>\n",
       "  <th>dist</th>  <td>   -0.0734</td> <td>    0.014</td> <td>   -5.336</td> <td> 0.000</td> <td>   -0.100</td> <td>   -0.046</td>\n",
       "</tr>\n",
       "</table>\n",
       "<table class=\"simpletable\">\n",
       "<tr>\n",
       "  <th>Omnibus:</th>       <td>7187.794</td> <th>  Durbin-Watson:     </th> <td>   1.769</td>\n",
       "</tr>\n",
       "<tr>\n",
       "  <th>Prob(Omnibus):</th>  <td> 0.000</td>  <th>  Jarque-Bera (JB):  </th> <td> 361.676</td>\n",
       "</tr>\n",
       "<tr>\n",
       "  <th>Skew:</th>           <td> 0.410</td>  <th>  Prob(JB):          </th> <td>2.90e-79</td>\n",
       "</tr>\n",
       "<tr>\n",
       "  <th>Kurtosis:</th>       <td> 1.729</td>  <th>  Cond. No.          </th> <td>    3.73</td>\n",
       "</tr>\n",
       "</table><br/><br/>Warnings:<br/>[1] Standard Errors assume that the covariance matrix of the errors is correctly specified."
      ],
      "text/plain": [
       "<class 'statsmodels.iolib.summary.Summary'>\n",
       "\"\"\"\n",
       "                            OLS Regression Results                            \n",
       "==============================================================================\n",
       "Dep. Variable:                      y   R-squared:                       0.007\n",
       "Model:                            OLS   Adj. R-squared:                  0.007\n",
       "Method:                 Least Squares   F-statistic:                     28.48\n",
       "Date:                Thu, 29 Apr 2021   Prob (F-statistic):           1.00e-07\n",
       "Time:                        20:03:06   Log-Likelihood:                -7632.2\n",
       "No. Observations:                3796   AIC:                         1.527e+04\n",
       "Df Residuals:                    3794   BIC:                         1.528e+04\n",
       "Df Model:                           1                                         \n",
       "Covariance Type:            nonrobust                                         \n",
       "==============================================================================\n",
       "                 coef    std err          t      P>|t|      [0.025      0.975]\n",
       "------------------------------------------------------------------------------\n",
       "const         13.9559      0.038    369.945      0.000      13.882      14.030\n",
       "dist          -0.0734      0.014     -5.336      0.000      -0.100      -0.046\n",
       "==============================================================================\n",
       "Omnibus:                     7187.794   Durbin-Watson:                   1.769\n",
       "Prob(Omnibus):                  0.000   Jarque-Bera (JB):              361.676\n",
       "Skew:                           0.410   Prob(JB):                     2.90e-79\n",
       "Kurtosis:                       1.729   Cond. No.                         3.73\n",
       "==============================================================================\n",
       "\n",
       "Warnings:\n",
       "[1] Standard Errors assume that the covariance matrix of the errors is correctly specified.\n",
       "\"\"\""
      ]
     },
     "execution_count": 4,
     "metadata": {},
     "output_type": "execute_result"
    }
   ],
   "source": [
    "y_1_2 = distance.column(\"yrsed\")\n",
    "X_1_2 = distance.select(\"dist\").to_df()\n",
    "model_1_2 = sm.OLS(y_1_2, sm.add_constant(X_1_2))  \n",
    "results_1_2 = model_1_2.fit()\n",
    "results_1_2.summary()"
   ]
  },
  {
   "cell_type": "code",
   "execution_count": 5,
   "metadata": {
    "deletable": false,
    "editable": false
   },
   "outputs": [
    {
     "data": {
      "text/html": [
       "\n",
       "    <p><strong>q1_2</strong> passed!</p>\n",
       "    "
      ],
      "text/plain": [
       "q1_2 passed!"
      ]
     },
     "execution_count": 5,
     "metadata": {},
     "output_type": "execute_result"
    }
   ],
   "source": [
    "grader.check(\"q1_2\")"
   ]
  },
  {
   "cell_type": "markdown",
   "metadata": {
    "cell_id": "00010-af574915-bd45-47d0-a1f5-1d44842f9308",
    "deletable": false,
    "editable": false,
    "tags": []
   },
   "source": [
    "**Question 1.3:** What is the estimated relationship between distance and years of schooling? Assign `slope_1_3` to the estimated slope (to at least 4 decimal places). Is this statistically significant? Assign `significant_1_3` to either `True` or `False`, corresponding to whether or not the slope if statistically significant.\n",
    "<!--\n",
    "BEGIN QUESTION\n",
    "name: q1_3\n",
    "-->"
   ]
  },
  {
   "cell_type": "code",
   "execution_count": 6,
   "metadata": {
    "cell_id": "00011-9b4b5f9e-8823-4620-a97c-e5f1b22106e2",
    "execution_millis": 1,
    "execution_start": 1604898223480,
    "output_cleared": false,
    "source_hash": "3fe58bf",
    "tags": []
   },
   "outputs": [],
   "source": [
    "slope_1_3 = -0.0734\n",
    "significant_1_3 = True"
   ]
  },
  {
   "cell_type": "code",
   "execution_count": 7,
   "metadata": {
    "deletable": false,
    "editable": false
   },
   "outputs": [
    {
     "data": {
      "text/html": [
       "\n",
       "    <p><strong>q1_3</strong> passed!</p>\n",
       "    "
      ],
      "text/plain": [
       "q1_3 passed!"
      ]
     },
     "execution_count": 7,
     "metadata": {},
     "output_type": "execute_result"
    }
   ],
   "source": [
    "grader.check(\"q1_3\")"
   ]
  },
  {
   "cell_type": "markdown",
   "metadata": {
    "cell_id": "00019-2f7bb315-2766-42f4-a4c5-d1f1536d9e2f",
    "deletable": false,
    "editable": false,
    "tags": []
   },
   "source": [
    "<!-- BEGIN QUESTION -->\n",
    "\n",
    "**Question 1.4:** Interpret the slope coefficient on `dist` with the appropriate units. Does this value align with our intuition from 1.1? \n",
    "Interpret the y-intercept term. \n",
    "<!--\n",
    "BEGIN QUESTION\n",
    "name: q1_4\n",
    "manual: true\n",
    "-->"
   ]
  },
  {
   "cell_type": "markdown",
   "metadata": {},
   "source": [
    "It seems that we estimate a slope of roughly -0.0734, meaning that a an increase to distance to college by 10 miles is expected to decrease years of education completed by .0734 years. This value does align with our intuition from 1.1 that the further away the college is, the probable decrease in years of education completed meaning a negative association, negative slope"
   ]
  },
  {
   "cell_type": "markdown",
   "metadata": {
    "cell_id": "00011-11b5ae21-7bc6-4ef0-83e3-562c0f8fc94c",
    "deletable": false,
    "editable": false,
    "tags": []
   },
   "source": [
    "<!-- END QUESTION -->\n",
    "\n",
    "<!-- BEGIN QUESTION -->\n",
    "\n",
    "**Question 1.5:** What could be a potential confounding variable in the above regression? Do you expect this confounding factor to overstate or understate our coefficient on `dist`? Why? Give clear reasoning for how the confounding variable affects both independent and dependent variables, like discussed in lecture.\n",
    "<!--\n",
    "BEGIN QUESTION\n",
    "name: q1_5\n",
    "manual: true\n",
    "-->"
   ]
  },
  {
   "cell_type": "markdown",
   "metadata": {},
   "source": [
    "I think there are many potential confounding variables in the above regression affecting our coefficient on distance. Some include family income, if father went to college, or mother went to college. I expect these confounding factors to overstate our coefficient on dist, because it could be the true reason for the increase in years of schooling rather than the distance. But by ignoring them, we over estimate the effect of distance. The confounding variables overestimate the effect of the independent variable on the dependent variable, as mentioned above, making it seem as if the independent variable is greatly correlated with the cause in change of depending variable when another correlation may be ignored for the actual change in dependent variable. "
   ]
  },
  {
   "cell_type": "markdown",
   "metadata": {
    "cell_id": "00019-894ba6dc-4782-4d5f-a724-73a9eb1f2348",
    "deletable": false,
    "editable": false,
    "tags": []
   },
   "source": [
    "<!-- END QUESTION -->\n",
    "\n",
    "**Question 1.6:** Now consider the following longer regression:\n",
    "\n",
    "$$\\text{Years of Education} = \\beta_1 \\times \\text{Distance from College} + \\beta_2 \\times \\text{High Income Family} + \\alpha$$ \n",
    "\n",
    "fit a regression model for years of education `yrsed` onto both distance to the nearest college `dist`, and family income `incomehi`.\n",
    "<!--\n",
    "BEGIN QUESTION\n",
    "name: q1_6\n",
    "-->"
   ]
  },
  {
   "cell_type": "code",
   "execution_count": 8,
   "metadata": {
    "cell_id": "00022-f5c025eb-b65a-4a45-b001-8a4dcd806764",
    "execution_millis": 48,
    "execution_start": 1604898909507,
    "output_cleared": false,
    "source_hash": "985e678",
    "tags": []
   },
   "outputs": [
    {
     "data": {
      "text/html": [
       "<table class=\"simpletable\">\n",
       "<caption>OLS Regression Results</caption>\n",
       "<tr>\n",
       "  <th>Dep. Variable:</th>            <td>y</td>        <th>  R-squared:         </th> <td>   0.052</td> \n",
       "</tr>\n",
       "<tr>\n",
       "  <th>Model:</th>                   <td>OLS</td>       <th>  Adj. R-squared:    </th> <td>   0.051</td> \n",
       "</tr>\n",
       "<tr>\n",
       "  <th>Method:</th>             <td>Least Squares</td>  <th>  F-statistic:       </th> <td>   103.2</td> \n",
       "</tr>\n",
       "<tr>\n",
       "  <th>Date:</th>             <td>Thu, 29 Apr 2021</td> <th>  Prob (F-statistic):</th> <td>2.18e-44</td> \n",
       "</tr>\n",
       "<tr>\n",
       "  <th>Time:</th>                 <td>20:03:28</td>     <th>  Log-Likelihood:    </th> <td> -7545.8</td> \n",
       "</tr>\n",
       "<tr>\n",
       "  <th>No. Observations:</th>      <td>  3796</td>      <th>  AIC:               </th> <td>1.510e+04</td>\n",
       "</tr>\n",
       "<tr>\n",
       "  <th>Df Residuals:</th>          <td>  3793</td>      <th>  BIC:               </th> <td>1.512e+04</td>\n",
       "</tr>\n",
       "<tr>\n",
       "  <th>Df Model:</th>              <td>     2</td>      <th>                     </th>     <td> </td>    \n",
       "</tr>\n",
       "<tr>\n",
       "  <th>Covariance Type:</th>      <td>nonrobust</td>    <th>                     </th>     <td> </td>    \n",
       "</tr>\n",
       "</table>\n",
       "<table class=\"simpletable\">\n",
       "<tr>\n",
       "      <td></td>        <th>coef</th>     <th>std err</th>      <th>t</th>      <th>P>|t|</th>  <th>[0.025</th>    <th>0.975]</th>  \n",
       "</tr>\n",
       "<tr>\n",
       "  <th>const</th>    <td>   13.6874</td> <td>    0.042</td> <td>  325.508</td> <td> 0.000</td> <td>   13.605</td> <td>   13.770</td>\n",
       "</tr>\n",
       "<tr>\n",
       "  <th>dist</th>     <td>   -0.0582</td> <td>    0.013</td> <td>   -4.315</td> <td> 0.000</td> <td>   -0.085</td> <td>   -0.032</td>\n",
       "</tr>\n",
       "<tr>\n",
       "  <th>incomehi</th> <td>    0.8463</td> <td>    0.064</td> <td>   13.293</td> <td> 0.000</td> <td>    0.722</td> <td>    0.971</td>\n",
       "</tr>\n",
       "</table>\n",
       "<table class=\"simpletable\">\n",
       "<tr>\n",
       "  <th>Omnibus:</th>       <td>2060.901</td> <th>  Durbin-Watson:     </th> <td>   1.838</td>\n",
       "</tr>\n",
       "<tr>\n",
       "  <th>Prob(Omnibus):</th>  <td> 0.000</td>  <th>  Jarque-Bera (JB):  </th> <td> 307.997</td>\n",
       "</tr>\n",
       "<tr>\n",
       "  <th>Skew:</th>           <td> 0.404</td>  <th>  Prob(JB):          </th> <td>1.32e-67</td>\n",
       "</tr>\n",
       "<tr>\n",
       "  <th>Kurtosis:</th>       <td> 1.862</td>  <th>  Cond. No.          </th> <td>    6.71</td>\n",
       "</tr>\n",
       "</table><br/><br/>Warnings:<br/>[1] Standard Errors assume that the covariance matrix of the errors is correctly specified."
      ],
      "text/plain": [
       "<class 'statsmodels.iolib.summary.Summary'>\n",
       "\"\"\"\n",
       "                            OLS Regression Results                            \n",
       "==============================================================================\n",
       "Dep. Variable:                      y   R-squared:                       0.052\n",
       "Model:                            OLS   Adj. R-squared:                  0.051\n",
       "Method:                 Least Squares   F-statistic:                     103.2\n",
       "Date:                Thu, 29 Apr 2021   Prob (F-statistic):           2.18e-44\n",
       "Time:                        20:03:28   Log-Likelihood:                -7545.8\n",
       "No. Observations:                3796   AIC:                         1.510e+04\n",
       "Df Residuals:                    3793   BIC:                         1.512e+04\n",
       "Df Model:                           2                                         \n",
       "Covariance Type:            nonrobust                                         \n",
       "==============================================================================\n",
       "                 coef    std err          t      P>|t|      [0.025      0.975]\n",
       "------------------------------------------------------------------------------\n",
       "const         13.6874      0.042    325.508      0.000      13.605      13.770\n",
       "dist          -0.0582      0.013     -4.315      0.000      -0.085      -0.032\n",
       "incomehi       0.8463      0.064     13.293      0.000       0.722       0.971\n",
       "==============================================================================\n",
       "Omnibus:                     2060.901   Durbin-Watson:                   1.838\n",
       "Prob(Omnibus):                  0.000   Jarque-Bera (JB):              307.997\n",
       "Skew:                           0.404   Prob(JB):                     1.32e-67\n",
       "Kurtosis:                       1.862   Cond. No.                         6.71\n",
       "==============================================================================\n",
       "\n",
       "Warnings:\n",
       "[1] Standard Errors assume that the covariance matrix of the errors is correctly specified.\n",
       "\"\"\""
      ]
     },
     "execution_count": 8,
     "metadata": {},
     "output_type": "execute_result"
    }
   ],
   "source": [
    "y_1_6 = distance.column(\"yrsed\")\n",
    "X_1_6 = distance.select(\"dist\", \"incomehi\").to_df()\n",
    "model_1_6 = sm.OLS(y_1_6, sm.add_constant(X_1_6))  \n",
    "results_1_6 = model_1_6.fit()\n",
    "results_1_6.summary()"
   ]
  },
  {
   "cell_type": "code",
   "execution_count": 9,
   "metadata": {
    "deletable": false,
    "editable": false
   },
   "outputs": [
    {
     "data": {
      "text/html": [
       "\n",
       "    <p><strong>q1_6</strong> passed!</p>\n",
       "    "
      ],
      "text/plain": [
       "q1_6 passed!"
      ]
     },
     "execution_count": 9,
     "metadata": {},
     "output_type": "execute_result"
    }
   ],
   "source": [
    "grader.check(\"q1_6\")"
   ]
  },
  {
   "cell_type": "markdown",
   "metadata": {
    "cell_id": "00025-12febc27-ec7f-40c0-b161-63213d95cc93",
    "deletable": false,
    "editable": false,
    "tags": []
   },
   "source": [
    "**Question 1.7:** Now what is the estimated relationship between distance and years of schooling? Assign `slope_1_7` to the estimated slope (to at least 4 decimal places). Is this statistically significant? Assign `significant_1_7` to either `True` or `False`, corresponding to whether or not the slope if statistically significant.\n",
    "<!--\n",
    "BEGIN QUESTION\n",
    "name: q1_7\n",
    "-->"
   ]
  },
  {
   "cell_type": "code",
   "execution_count": 10,
   "metadata": {
    "cell_id": "00029-16e5e2df-f8a6-4bcd-9f88-a53d1172cad6",
    "execution_millis": 0,
    "execution_start": 1604899930593,
    "output_cleared": false,
    "source_hash": "2badb47f",
    "tags": []
   },
   "outputs": [],
   "source": [
    "slope_1_7 = -0.0582\n",
    "significant_1_7 = True"
   ]
  },
  {
   "cell_type": "code",
   "execution_count": 11,
   "metadata": {
    "deletable": false,
    "editable": false
   },
   "outputs": [
    {
     "data": {
      "text/html": [
       "\n",
       "    <p><strong>q1_7</strong> passed!</p>\n",
       "    "
      ],
      "text/plain": [
       "q1_7 passed!"
      ]
     },
     "execution_count": 11,
     "metadata": {},
     "output_type": "execute_result"
    }
   ],
   "source": [
    "grader.check(\"q1_7\")"
   ]
  },
  {
   "cell_type": "markdown",
   "metadata": {
    "cell_id": "00029-816c1165-9811-460f-b256-ddbec2db8b65",
    "deletable": false,
    "editable": false,
    "tags": []
   },
   "source": [
    "<!-- BEGIN QUESTION -->\n",
    "\n",
    "**Question 1.8:** How does this new slope for distance to college compare to the previous one? What does this say about family income?\n",
    "<!--\n",
    "BEGIN QUESTION\n",
    "name: q1_8\n",
    "manual: true\n",
    "-->"
   ]
  },
  {
   "cell_type": "markdown",
   "metadata": {},
   "source": [
    "This implies that when we control for a person's family income (i.e. we get rid of that source of bias), we only see that on average an increase of 10 miles to distance to college is associated with an expected .0582 years decrease of years of education completed instead of the earlier .0734 decrease. Furthermore, looking at the 95% confidence interval for 𝛽̂2, family income, we see that it does not contain 0, which would imply that family income has a strong non-zero association with years of education completed. "
   ]
  },
  {
   "cell_type": "markdown",
   "metadata": {
    "cell_id": "00030-cc70a36a-9f72-4ede-8884-d21c8f60c81f",
    "deletable": false,
    "editable": false,
    "tags": []
   },
   "source": [
    "<!-- END QUESTION -->\n",
    "\n",
    "**Question 1.9:** Now fit a linear regression with the additional regressors `bytest`, `female`, `black`, `hispanic`, `incomehi`,  `ownhome`, `dadcoll`, `momcoll`, `cue80`, and `stwnfg80` (along with `dist`).\n",
    "\n",
    "<!--\n",
    "BEGIN QUESTION\n",
    "name: q1_9\n",
    "-->\n"
   ]
  },
  {
   "cell_type": "code",
   "execution_count": 12,
   "metadata": {
    "cell_id": "00035-1c7ff8d9-0993-4c75-ab24-6fb23b598479",
    "execution_millis": 18,
    "execution_start": 1604900212413,
    "output_cleared": false,
    "source_hash": "b76f3c5a",
    "tags": []
   },
   "outputs": [
    {
     "data": {
      "text/html": [
       "<table class=\"simpletable\">\n",
       "<caption>OLS Regression Results</caption>\n",
       "<tr>\n",
       "  <th>Dep. Variable:</th>            <td>y</td>        <th>  R-squared:         </th> <td>   0.283</td> \n",
       "</tr>\n",
       "<tr>\n",
       "  <th>Model:</th>                   <td>OLS</td>       <th>  Adj. R-squared:    </th> <td>   0.281</td> \n",
       "</tr>\n",
       "<tr>\n",
       "  <th>Method:</th>             <td>Least Squares</td>  <th>  F-statistic:       </th> <td>   135.7</td> \n",
       "</tr>\n",
       "<tr>\n",
       "  <th>Date:</th>             <td>Thu, 29 Apr 2021</td> <th>  Prob (F-statistic):</th> <td>1.92e-263</td>\n",
       "</tr>\n",
       "<tr>\n",
       "  <th>Time:</th>                 <td>20:03:35</td>     <th>  Log-Likelihood:    </th> <td> -7015.1</td> \n",
       "</tr>\n",
       "<tr>\n",
       "  <th>No. Observations:</th>      <td>  3796</td>      <th>  AIC:               </th> <td>1.405e+04</td>\n",
       "</tr>\n",
       "<tr>\n",
       "  <th>Df Residuals:</th>          <td>  3784</td>      <th>  BIC:               </th> <td>1.413e+04</td>\n",
       "</tr>\n",
       "<tr>\n",
       "  <th>Df Model:</th>              <td>    11</td>      <th>                     </th>     <td> </td>    \n",
       "</tr>\n",
       "<tr>\n",
       "  <th>Covariance Type:</th>      <td>nonrobust</td>    <th>                     </th>     <td> </td>    \n",
       "</tr>\n",
       "</table>\n",
       "<table class=\"simpletable\">\n",
       "<tr>\n",
       "      <td></td>        <th>coef</th>     <th>std err</th>      <th>t</th>      <th>P>|t|</th>  <th>[0.025</th>    <th>0.975]</th>  \n",
       "</tr>\n",
       "<tr>\n",
       "  <th>const</th>    <td>    8.8614</td> <td>    0.250</td> <td>   35.487</td> <td> 0.000</td> <td>    8.372</td> <td>    9.351</td>\n",
       "</tr>\n",
       "<tr>\n",
       "  <th>dist</th>     <td>   -0.0308</td> <td>    0.012</td> <td>   -2.497</td> <td> 0.013</td> <td>   -0.055</td> <td>   -0.007</td>\n",
       "</tr>\n",
       "<tr>\n",
       "  <th>incomehi</th> <td>    0.3666</td> <td>    0.061</td> <td>    6.042</td> <td> 0.000</td> <td>    0.248</td> <td>    0.486</td>\n",
       "</tr>\n",
       "<tr>\n",
       "  <th>bytest</th>   <td>    0.0924</td> <td>    0.003</td> <td>   29.187</td> <td> 0.000</td> <td>    0.086</td> <td>    0.099</td>\n",
       "</tr>\n",
       "<tr>\n",
       "  <th>female</th>   <td>    0.1434</td> <td>    0.050</td> <td>    2.842</td> <td> 0.005</td> <td>    0.044</td> <td>    0.242</td>\n",
       "</tr>\n",
       "<tr>\n",
       "  <th>black</th>    <td>    0.3538</td> <td>    0.071</td> <td>    4.967</td> <td> 0.000</td> <td>    0.214</td> <td>    0.493</td>\n",
       "</tr>\n",
       "<tr>\n",
       "  <th>hispanic</th> <td>    0.4024</td> <td>    0.074</td> <td>    5.418</td> <td> 0.000</td> <td>    0.257</td> <td>    0.548</td>\n",
       "</tr>\n",
       "<tr>\n",
       "  <th>ownhome</th>  <td>    0.1456</td> <td>    0.067</td> <td>    2.185</td> <td> 0.029</td> <td>    0.015</td> <td>    0.276</td>\n",
       "</tr>\n",
       "<tr>\n",
       "  <th>dadcoll</th>  <td>    0.5699</td> <td>    0.074</td> <td>    7.731</td> <td> 0.000</td> <td>    0.425</td> <td>    0.714</td>\n",
       "</tr>\n",
       "<tr>\n",
       "  <th>momcoll</th>  <td>    0.3792</td> <td>    0.082</td> <td>    4.650</td> <td> 0.000</td> <td>    0.219</td> <td>    0.539</td>\n",
       "</tr>\n",
       "<tr>\n",
       "  <th>cue80</th>    <td>    0.0244</td> <td>    0.010</td> <td>    2.541</td> <td> 0.011</td> <td>    0.006</td> <td>    0.043</td>\n",
       "</tr>\n",
       "<tr>\n",
       "  <th>stwmfg80</th> <td>   -0.0502</td> <td>    0.020</td> <td>   -2.535</td> <td> 0.011</td> <td>   -0.089</td> <td>   -0.011</td>\n",
       "</tr>\n",
       "</table>\n",
       "<table class=\"simpletable\">\n",
       "<tr>\n",
       "  <th>Omnibus:</th>       <td>116.663</td> <th>  Durbin-Watson:     </th> <td>   1.928</td>\n",
       "</tr>\n",
       "<tr>\n",
       "  <th>Prob(Omnibus):</th> <td> 0.000</td>  <th>  Jarque-Bera (JB):  </th> <td>  98.499</td>\n",
       "</tr>\n",
       "<tr>\n",
       "  <th>Skew:</th>          <td> 0.326</td>  <th>  Prob(JB):          </th> <td>4.08e-22</td>\n",
       "</tr>\n",
       "<tr>\n",
       "  <th>Kurtosis:</th>      <td> 2.554</td>  <th>  Cond. No.          </th> <td>    539.</td>\n",
       "</tr>\n",
       "</table><br/><br/>Warnings:<br/>[1] Standard Errors assume that the covariance matrix of the errors is correctly specified."
      ],
      "text/plain": [
       "<class 'statsmodels.iolib.summary.Summary'>\n",
       "\"\"\"\n",
       "                            OLS Regression Results                            \n",
       "==============================================================================\n",
       "Dep. Variable:                      y   R-squared:                       0.283\n",
       "Model:                            OLS   Adj. R-squared:                  0.281\n",
       "Method:                 Least Squares   F-statistic:                     135.7\n",
       "Date:                Thu, 29 Apr 2021   Prob (F-statistic):          1.92e-263\n",
       "Time:                        20:03:35   Log-Likelihood:                -7015.1\n",
       "No. Observations:                3796   AIC:                         1.405e+04\n",
       "Df Residuals:                    3784   BIC:                         1.413e+04\n",
       "Df Model:                          11                                         \n",
       "Covariance Type:            nonrobust                                         \n",
       "==============================================================================\n",
       "                 coef    std err          t      P>|t|      [0.025      0.975]\n",
       "------------------------------------------------------------------------------\n",
       "const          8.8614      0.250     35.487      0.000       8.372       9.351\n",
       "dist          -0.0308      0.012     -2.497      0.013      -0.055      -0.007\n",
       "incomehi       0.3666      0.061      6.042      0.000       0.248       0.486\n",
       "bytest         0.0924      0.003     29.187      0.000       0.086       0.099\n",
       "female         0.1434      0.050      2.842      0.005       0.044       0.242\n",
       "black          0.3538      0.071      4.967      0.000       0.214       0.493\n",
       "hispanic       0.4024      0.074      5.418      0.000       0.257       0.548\n",
       "ownhome        0.1456      0.067      2.185      0.029       0.015       0.276\n",
       "dadcoll        0.5699      0.074      7.731      0.000       0.425       0.714\n",
       "momcoll        0.3792      0.082      4.650      0.000       0.219       0.539\n",
       "cue80          0.0244      0.010      2.541      0.011       0.006       0.043\n",
       "stwmfg80      -0.0502      0.020     -2.535      0.011      -0.089      -0.011\n",
       "==============================================================================\n",
       "Omnibus:                      116.663   Durbin-Watson:                   1.928\n",
       "Prob(Omnibus):                  0.000   Jarque-Bera (JB):               98.499\n",
       "Skew:                           0.326   Prob(JB):                     4.08e-22\n",
       "Kurtosis:                       2.554   Cond. No.                         539.\n",
       "==============================================================================\n",
       "\n",
       "Warnings:\n",
       "[1] Standard Errors assume that the covariance matrix of the errors is correctly specified.\n",
       "\"\"\""
      ]
     },
     "execution_count": 12,
     "metadata": {},
     "output_type": "execute_result"
    }
   ],
   "source": [
    "y_1_9 = distance.column(\"yrsed\")\n",
    "X_1_9 = distance.select(\"dist\", \"incomehi\",\"bytest\", \"female\", \"black\", \"hispanic\",\"ownhome\", \"dadcoll\", \"momcoll\", \"cue80\", \"stwmfg80\").to_df()\n",
    "model_1_9 = sm.OLS(y_1_9, sm.add_constant(X_1_9))  \n",
    "results_1_9 = model_1_9.fit()\n",
    "results_1_9.summary()"
   ]
  },
  {
   "cell_type": "code",
   "execution_count": 13,
   "metadata": {
    "deletable": false,
    "editable": false
   },
   "outputs": [
    {
     "data": {
      "text/html": [
       "\n",
       "    <p><strong>q1_9</strong> passed!</p>\n",
       "    "
      ],
      "text/plain": [
       "q1_9 passed!"
      ]
     },
     "execution_count": 13,
     "metadata": {},
     "output_type": "execute_result"
    }
   ],
   "source": [
    "grader.check(\"q1_9\")"
   ]
  },
  {
   "cell_type": "markdown",
   "metadata": {
    "cell_id": "00037-609636e0-ccc8-4a8f-81df-517faf539be6",
    "deletable": false,
    "editable": false,
    "tags": []
   },
   "source": [
    "<!-- BEGIN QUESTION -->\n",
    "\n",
    "**Question 1.10:** Further compare the slope on distance to college in our most recent regression with the previous two regressions. What does this suggest about the collective group of variables we included in addition to `dist`, regarding the idea of omitted variable bias?\n",
    "<!--\n",
    "BEGIN QUESTION\n",
    "name: q1_10\n",
    "manual: true\n",
    "-->"
   ]
  },
  {
   "cell_type": "markdown",
   "metadata": {},
   "source": [
    "This implies that when we control for the collective group of variables(i.e. we get rid of that source of bias), we only see that on average an increase of 10 miles for distance to college is associated with a decrease of .0308 years of education instead of the earlier .0582 decrease. This suggests that the collective group variables were biasing the regression and causing the independent variable distance to be overestimated. "
   ]
  },
  {
   "cell_type": "markdown",
   "metadata": {
    "cell_id": "00036-90ab12ef-0b95-47b0-bec3-f03e43d436c7",
    "deletable": false,
    "editable": false,
    "tags": []
   },
   "source": [
    "<!-- END QUESTION -->\n",
    "\n",
    "<!-- BEGIN QUESTION -->\n",
    "\n",
    "**Question 1.11:** The value of the coefficient on `dadcoll` should be positive. What does this coefficient measure? Interpret this effect.\n",
    "<!--\n",
    "BEGIN QUESTION\n",
    "name: q1_11\n",
    "manual: true\n",
    "-->"
   ]
  },
  {
   "cell_type": "markdown",
   "metadata": {},
   "source": [
    "This coefficient measures if on average having a dad who graduated from college is associated with any increase or decrease in years of education completed. The effect specifically from the regression on question 1.9 is that on avergae having a dad who is a colllege graduate is associated with a 0.5699 increase in years of education completed. "
   ]
  },
  {
   "cell_type": "markdown",
   "metadata": {
    "cell_id": "00043-346a6fa6-6a52-4e92-a4aa-6e96d4ba59cb",
    "deletable": false,
    "editable": false,
    "tags": []
   },
   "source": [
    "<!-- END QUESTION -->\n",
    "\n",
    "<!-- BEGIN QUESTION -->\n",
    "\n",
    "**Question 1.12:** Explain why `cue80` and `stwmfg80` appear in the regression. Are the signs of their estimated coefficients what you would have believed? Explain.\n",
    "\n",
    "<!--\n",
    "BEGIN QUESTION\n",
    "name: q1_12\n",
    "manual: true\n",
    "-->"
   ]
  },
  {
   "cell_type": "markdown",
   "metadata": {},
   "source": [
    "if unemployment rate is high more people may want to go to college because there's not many job opportunities. If the average wage in manufacturing is high people may choose to work in manufacturing trade rather than go to higher education and go to college. The signs of their estimated coefficients are exactly what I would have believed. Where higher unemployment rate is associated with a approx .02 increase in associated of another year of education whereas hourly wage in manufacturing is associated with a approx .05 decrease in one year of education"
   ]
  },
  {
   "cell_type": "markdown",
   "metadata": {
    "cell_id": "00046-8a5bcef2-7884-4ee2-997b-8ea84f2c297f",
    "deletable": false,
    "editable": false,
    "tags": []
   },
   "source": [
    "<!-- END QUESTION -->\n",
    "\n",
    "<!-- BEGIN QUESTION -->\n",
    "\n",
    "**Question 1.13:** A policymaker who wants to increase the average years of schooling of the population sees your results and concludes that more colleges should to be built such that people are closer to colleges. Do you agree with this proposal? Why or why not?\n",
    "\n",
    "<!--\n",
    "BEGIN QUESTION\n",
    "name: q1_13\n",
    "manual: true\n",
    "-->"
   ]
  },
  {
   "cell_type": "markdown",
   "metadata": {},
   "source": [
    "I disagree because it seems other factors may have a greater increase on average years of schooling completed like mom and dad graduating college, or other variables like your income so building more schools may not be the best solution. "
   ]
  },
  {
   "cell_type": "markdown",
   "metadata": {
    "cell_id": "00048-9ccfaf3f-910e-4bda-887f-18efaf8d533e",
    "deletable": false,
    "editable": false,
    "tags": []
   },
   "source": [
    "<!-- END QUESTION -->\n",
    "\n",
    "**Question 1.14:** Let's try and make a prediction. \n",
    "\n",
    "Bob is a white non-Hispanic male. His high school was 20 miles from the nearest college. His base-year composite test score `bytest` was 58. \n",
    "His family income in 1980 was \\\\$26,000,\n",
    "and his family owned a home. His mother attended college, but his father did not.\n",
    "The unemployment rate in his county was 7.5%, and the state average manufacturing\n",
    "hourly wage was \\\\$9.75. Predict Bob’s years of completed schooling using the regressions\n",
    "in 1.6 and 1.9. \n",
    "\n",
    "Assign `bob_schooling_1_9` to the predicted schooling using the model in 1.9 and assign `bob_schooling_1_6` to the predicted schooling using the model in 1.6.\n",
    "\n",
    "<!--\n",
    "BEGIN QUESTION\n",
    "name: q1_14\n",
    "-->\n"
   ]
  },
  {
   "cell_type": "code",
   "execution_count": 14,
   "metadata": {
    "cell_id": "00049-540963fb-6fd9-4182-8a6c-b9be3cfabdbd",
    "execution_millis": 11,
    "execution_start": 1604902639894,
    "output_cleared": false,
    "source_hash": "752e5512",
    "tags": []
   },
   "outputs": [
    {
     "name": "stdout",
     "output_type": "stream",
     "text": [
      "Bob's predicted years of schooling in the long model is: 14.18955\n",
      "Bob's predicted years of schooling in the short model is: 13.3697\n"
     ]
    }
   ],
   "source": [
    "#bob_schooling_1_9 = (20) + (1)+ (58) + (1) + (1) + (7.5) + (9.75) + 8.8614   \n",
    "                    #dist + incomehi + bytest + ownhome + momcoll + unemployment + wage\n",
    "#bob_schooling_1_6 = (20) + (1)+ 13.6874\n",
    "                    #dist + incomehi\n",
    "bob_schooling_1_9 = (-0.0308 * 20) + (0.3666) + (0.0924 * 58) + (0.1456) + (0.3792) + (0.0244 * 7.5) + (-0.0502 * 9.75) + 8.8614\n",
    "bob_schooling_1_6 = (-0.0582 * 20) + (0.8463) + 13.6874\n",
    "print(\"Bob's predicted years of schooling in the long model is:\", bob_schooling_1_9)\n",
    "print(\"Bob's predicted years of schooling in the short model is:\", bob_schooling_1_6)"
   ]
  },
  {
   "cell_type": "code",
   "execution_count": 15,
   "metadata": {
    "deletable": false,
    "editable": false
   },
   "outputs": [
    {
     "data": {
      "text/html": [
       "\n",
       "    <p><strong>q1_14</strong> passed!</p>\n",
       "    "
      ],
      "text/plain": [
       "q1_14 passed!"
      ]
     },
     "execution_count": 15,
     "metadata": {},
     "output_type": "execute_result"
    }
   ],
   "source": [
    "grader.check(\"q1_14\")"
   ]
  },
  {
   "cell_type": "markdown",
   "metadata": {
    "cell_id": "00054-6619eeb2-4039-49f0-9ad9-165f86d514c7",
    "tags": []
   },
   "source": [
    "## Part 2: Diploma Effect\n",
    "\n",
    "Before we were only considering years of schooling as a continuous variable and not paying much attention to the significance of certain years. \n",
    "In reality, it seems natural to think that 16 years of schooling, which is how long it takes for most people to obtain a Bachelor's degree, is a more significant jump from 15 than a typical one-year increase in schooling would be.\n",
    "\n",
    "In this next part we examine the question of whether or not a diploma makes a significant difference in a person's earnings. In other words, is there a significant difference between certain jumps in schooling (11 to 12, 15 to 16) that would indicate a benefit from a diploma in addition to the additional year of schooling?\n",
    "\n",
    "Below you will see a table from Jaeger and Page's paper entitled *Degrees Matter: New Evidence on Sheepskin Effects in the Returns to Education* (1996). Let's take a minute to understand it.\n",
    "First, each column corresponds to a diffferent regression that they performed, with the title of the column denoting the demographic of people that were regressed on. So in the first column, they performed a regression only on the white men of their dataset. \n",
    "- The outcome variable is log hourly wage.\n",
    "- The years of schooling dummy variables bucket individuals into 10 groups *except* the dummy variable corresponding to 12 years of schooling. The groups are 0-8, 9, 10, 11, 13, 14, 15, 16, 17, and 18+ years of schooling. Note that these buckets are *mutually exclusive and collectively exhaustive*.\n",
    "- The diploma variables are  dummy variables that represent the individual's highest diploma received. For example, if Alice received 16 years of schooling and received a High School, Bachelor's, and Master's degree, only the dummy variable for 16 years of schooling and dummy variable for Master's degree will be 1.\n",
    "\n",
    "The regression Jaeger and Page conduct roughly looks as follows:\n",
    "\n",
    "$$\\text{Log income} = \\sum_i \\beta_i \\times \\text{Dummy variable for having i years of education} + \\sum_j \\gamma_j \\times \\text{Dummy variable for having highest degree j} + \\alpha$$"
   ]
  },
  {
   "cell_type": "markdown",
   "metadata": {
    "cell_id": "00055-a5f2ff30-3b31-4aa8-b9b2-13ace6e9882f",
    "tags": []
   },
   "source": [
    "![title](jaeger_page.png)"
   ]
  },
  {
   "cell_type": "markdown",
   "metadata": {
    "cell_id": "00056-3c5aa63e-58a5-4d47-98b4-cff08dcdfdfa",
    "deletable": false,
    "editable": false,
    "tags": []
   },
   "source": [
    "<!-- BEGIN QUESTION -->\n",
    "\n",
    "**Question 2.1:** \n",
    "Why do you think Jaeger and Page estimate 4 different models separately for white men, white women, black men, and black women? \n",
    "\n",
    "<!--\n",
    "BEGIN QUESTION\n",
    "name: q2_1\n",
    "manual: true\n",
    "-->"
   ]
  },
  {
   "cell_type": "markdown",
   "metadata": {},
   "source": [
    "They regress the 4 different models separately because they could be confounding factors and your gender and race may affect the years of schooling for various reasons so it is better to avoid overestimation and any type of bias by regressing separate. Also so they avoid omitted variable bias"
   ]
  },
  {
   "cell_type": "markdown",
   "metadata": {
    "cell_id": "00058-b287e436-f824-4ec8-a20e-0080d94912e1",
    "tags": []
   },
   "source": [
    "<!-- END QUESTION -->\n",
    "\n",
    "\n",
    "\n",
    "From now on, to keep the rest of the project short, we will only examine the regression results of model 1, i.e. the regression conducted on white men."
   ]
  },
  {
   "cell_type": "markdown",
   "metadata": {
    "cell_id": "00056-53ac2c2a-73cd-430f-8de5-4ce850ceb0a6",
    "deletable": false,
    "editable": false,
    "tags": []
   },
   "source": [
    "<!-- BEGIN QUESTION -->\n",
    "\n",
    "**Question 2.2:** Why might the effect in earnings of the 14th year of education be larger than that of the 15th?\n",
    "\n",
    "<!--\n",
    "BEGIN QUESTION\n",
    "name: q2_2\n",
    "manual: true\n",
    "-->"
   ]
  },
  {
   "cell_type": "markdown",
   "metadata": {},
   "source": [
    "14 years may relate to getting a 2 years associate degree from a community college whereas a 15 years of education may be not being able to finish bachelors, and having no degree, meaning highest education completed is still highschool whereas for 14 it might be associates degree"
   ]
  },
  {
   "cell_type": "markdown",
   "metadata": {
    "cell_id": "00061-e46878f4-8272-46ef-9a71-eda7fa57efa1",
    "deletable": false,
    "editable": false,
    "tags": []
   },
   "source": [
    "<!-- END QUESTION -->\n",
    "\n",
    "<!-- BEGIN QUESTION -->\n",
    "\n",
    "**Question 2.3:** Notice that there is no dummy variable associated for individuals with 12 years of schooling. Why might this be? As a result of this exclusion, how do you interpret the coefficient on 14 years of schooling.\n",
    "\n",
    "<!--\n",
    "BEGIN QUESTION\n",
    "name: q2_3\n",
    "manual: true\n",
    "-->"
   ]
  },
  {
   "cell_type": "markdown",
   "metadata": {},
   "source": [
    "There are no dummy variables associated for individuals with 12 years of schooling because the original research mentioned at the beginning of the project surveyed those people who had atleast completed 12 years of schooling. \n",
    "\n",
    "I interpret 14 years of schoooling then to mean that 12 years of schooling was ofcourse completed. There is multicolinearity between the years of schooling. "
   ]
  },
  {
   "cell_type": "markdown",
   "metadata": {
    "cell_id": "00062-85a8f620-9015-4aff-a11b-c97df7400329",
    "deletable": false,
    "editable": false,
    "tags": []
   },
   "source": [
    "<!-- END QUESTION -->\n",
    "\n",
    "<!-- BEGIN QUESTION -->\n",
    "\n",
    "**Question 2.4:** Why is the coefficient on doctoral degrees less than that on high school degrees? \n",
    "Does this mean that high school graduates make more than PhD graduates? Why or why not?\n",
    "\n",
    "<!--\n",
    "BEGIN QUESTION\n",
    "name: q2_4\n",
    "manual: true\n",
    "-->"
   ]
  },
  {
   "cell_type": "markdown",
   "metadata": {},
   "source": [
    "It does not mean high school graduates make more than PhD graduates it just means that there are less people who may go on to get doctorates or may take more time to make more money compared to people who have been working right after highschool for the years that person spent in their doctorate program. It may also have to do with multicolinearity causuing ambiguity. "
   ]
  },
  {
   "cell_type": "markdown",
   "metadata": {
    "cell_id": "00065-5751dacd-dbaa-4bb4-9f49-64d22975d433",
    "tags": []
   },
   "source": [
    "<!-- END QUESTION -->\n",
    "\n",
    "\n",
    "\n",
    "## Conclusion\n",
    "Very nice, you've finished Project 4! You've conducted a soup to nuts analysis that involved performing, comparing, and interpreting several regressions to examine sources of omitted variable bias. \n",
    "You've also interpreted a jam-packed table from a noteworthy economics paper that fortified your intuition on ordinary least squares linear regression. We hope you enjoyed the project just as much as we did writing it :')\n",
    "\n",
    "Congratulations for finishing your last project in Data 88! "
   ]
  },
  {
   "cell_type": "markdown",
   "metadata": {
    "deletable": false,
    "editable": false
   },
   "source": [
    "---\n",
    "\n",
    "To double-check your work, the cell below will rerun all of the autograder tests."
   ]
  },
  {
   "cell_type": "code",
   "execution_count": 18,
   "metadata": {
    "deletable": false,
    "editable": false
   },
   "outputs": [
    {
     "data": {
      "text/html": [
       "\n",
       "    <p><strong>q1_14</strong> passed!</p>\n",
       "    \n",
       "\n",
       "\n",
       "    <p><strong>q1_2</strong> passed!</p>\n",
       "    \n",
       "\n",
       "\n",
       "    <p><strong>q1_3</strong> passed!</p>\n",
       "    \n",
       "\n",
       "\n",
       "    <p><strong>q1_6</strong> passed!</p>\n",
       "    \n",
       "\n",
       "\n",
       "    <p><strong>q1_7</strong> passed!</p>\n",
       "    \n",
       "\n",
       "\n",
       "    <p><strong>q1_9</strong> passed!</p>\n",
       "    \n",
       "\n"
      ],
      "text/plain": [
       "q1_14 passed!\n",
       "\n",
       "q1_2 passed!\n",
       "\n",
       "q1_3 passed!\n",
       "\n",
       "q1_6 passed!\n",
       "\n",
       "q1_7 passed!\n",
       "\n",
       "q1_9 passed!\n"
      ]
     },
     "execution_count": 18,
     "metadata": {},
     "output_type": "execute_result"
    }
   ],
   "source": [
    "grader.check_all()"
   ]
  },
  {
   "cell_type": "markdown",
   "metadata": {
    "deletable": false,
    "editable": false
   },
   "source": [
    "## Submission\n",
    "\n",
    "Make sure you have run all cells in your notebook in order before running the cell below, so that all images/graphs appear in the output. The cell below will generate a zip file for you to submit. **Please save before exporting!**"
   ]
  },
  {
   "cell_type": "code",
   "execution_count": null,
   "metadata": {
    "deletable": false,
    "editable": false
   },
   "outputs": [],
   "source": [
    "# Save your notebook first, then run this cell to export your submission.\n",
    "grader.export()"
   ]
  },
  {
   "cell_type": "markdown",
   "metadata": {},
   "source": [
    " "
   ]
  }
 ],
 "metadata": {
  "deepnote_execution_queue": [],
  "deepnote_notebook_id": "785d9af7-7c98-48fa-97f0-4310fcce279c",
  "kernelspec": {
   "display_name": "Python 3 (ipykernel)",
   "language": "python",
   "name": "python3"
  },
  "language_info": {
   "codemirror_mode": {
    "name": "ipython",
    "version": 3
   },
   "file_extension": ".py",
   "mimetype": "text/x-python",
   "name": "python",
   "nbconvert_exporter": "python",
   "pygments_lexer": "ipython3",
   "version": "3.9.15"
  }
 },
 "nbformat": 4,
 "nbformat_minor": 4
}
